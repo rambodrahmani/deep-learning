{
 "cells": [
  {
   "cell_type": "markdown",
   "id": "0e573d00-f8a9-4b67-8ee4-db2d1ab98763",
   "metadata": {},
   "source": [
    "# **Task 3: Pre-trained**"
   ]
  },
  {
   "cell_type": "code",
   "execution_count": null,
   "id": "375f0b26-be33-43aa-bfac-758544475b01",
   "metadata": {},
   "outputs": [],
   "source": [
    "# necessary imports\n",
    "import os\n",
    "import numpy as np\n",
    "import random as rn\n",
    "import tensorflow as tf\n",
    "\n",
    "# final preprocessed dataset directory path\n",
    "DATASET_PATH = os.path.join(DATASET_ROOT, 'Preprocessed')\n",
    "\n",
    "# The below is necessary for reproducible results of certain Python hash-based operations.\n",
    "os.environ[\"PYTHONHASHSEED\"] = \"0\"\n",
    "\n",
    "# The below is necessary for starting Numpy generated random numbers in a well-defined initial state.\n",
    "np.random.seed(31)\n",
    "\n",
    "# The below is necessary for starting core Python generated random numbers in a well-defined state.\n",
    "rn.seed(14)\n",
    "\n",
    "# The below tf.random.set_seed will make random number generation in TensorFlow have a well-defined initial state.\n",
    "tf.random.set_seed(1234)"
   ]
  }
 ],
 "metadata": {
  "kernelspec": {
   "display_name": "python39_venv",
   "language": "python",
   "name": "python39_venv"
  },
  "language_info": {
   "codemirror_mode": {
    "name": "ipython",
    "version": 3
   },
   "file_extension": ".py",
   "mimetype": "text/x-python",
   "name": "python",
   "nbconvert_exporter": "python",
   "pygments_lexer": "ipython3",
   "version": "3.9.10"
  }
 },
 "nbformat": 4,
 "nbformat_minor": 5
}
