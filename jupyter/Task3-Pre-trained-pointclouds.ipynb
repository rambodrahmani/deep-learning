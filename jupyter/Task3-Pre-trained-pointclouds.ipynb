{
 "cells": [
  {
   "cell_type": "markdown",
   "id": "0e573d00-f8a9-4b67-8ee4-db2d1ab98763",
   "metadata": {},
   "source": [
    "# **Task 3: Pre-trained models: pointclouds**"
   ]
  },
  {
   "cell_type": "code",
   "execution_count": null,
   "id": "375f0b26-be33-43aa-bfac-758544475b01",
   "metadata": {},
   "outputs": [],
   "source": [
    "# necessary imports\n",
    "import os\n",
    "import glob\n",
    "import numpy\n",
    "import pandas\n",
    "import random\n",
    "import trimesh\n",
    "import logging\n",
    "import tensorflow\n",
    "from tensorflow.keras.layers import Conv1D, MaxPooling1D, Lambda, Conv2D, MaxPooling2D\n",
    "from tensorflow.keras import models, layers, regularizers, optimizers, Model\n",
    "from tensorflow.keras.layers import Dense, Activation, Flatten, Dropout, BatchNormalization, Input\n",
    "\n",
    "# import Stratified K-Fold Cross Validation notebook\n",
    "%run KFold-Cross-Validation.ipynb\n",
    "\n",
    "# dataset root path\n",
    "DATASET_ROOT = '/run/media/rr/M2/DevOps/jupyter-lab/CIDL/dataset/'\n",
    "\n",
    "# final preprocessed dataset directory path\n",
    "DATASET_PATH = os.path.join(DATASET_ROOT, 'Preprocessed')\n",
    "\n",
    "# number of classes for the classification task\n",
    "NUM_CLASSES = 5"
   ]
  },
  {
   "cell_type": "code",
   "execution_count": null,
   "id": "66f3de67-c738-40c6-b956-2d8501860985",
   "metadata": {},
   "outputs": [],
   "source": [
    "# only log critical messages\n",
    "logger = logging.getLogger()\n",
    "logger.setLevel(logging.CRITICAL)"
   ]
  },
  {
   "cell_type": "markdown",
   "id": "679f5428-f31e-4a58-890a-c8871b1029d5",
   "metadata": {},
   "source": [
    "## Input Target Size"
   ]
  },
  {
   "cell_type": "code",
   "execution_count": 3,
   "id": "9cda1180-c55a-495b-b7cf-afb59ccc95b2",
   "metadata": {},
   "outputs": [
    {
     "data": {
      "image/png": "[encoded data removed]",
      "text/plain": [
       "<Figure size 360x360 with 1 Axes>"
      ]
     },
     "metadata": {
      "needs_background": "light"
     },
     "output_type": "display_data"
    }
   ],
   "source": [
    "example_path = os.path.join(DATASET_PATH, 'Bed/pointclouds', '1a8e293609eca3b3f7e27638e63d848.obj')\n",
    "example_obj_file = glob.glob(example_path)\n",
    "example_mesh = trimesh.load(example_obj_file[0], force='mesh')\n",
    "points = example_mesh.sample(16384)\n",
    "fig = plt.figure(figsize=(5, 5))\n",
    "ax = fig.add_subplot(111, projection=\"3d\")\n",
    "ax.scatter(points[:, 0], points[:, 1], points[:, 2])\n",
    "ax.set_axis_off()\n",
    "#plt.savefig('imgs/example-mesh-resolution-16384.jpg', dpi=200)\n",
    "plt.show()"
   ]
  },
  {
   "cell_type": "code",
   "execution_count": 4,
   "id": "c7b4a910-2475-49d3-ae75-cce9b88ab4bd",
   "metadata": {},
   "outputs": [],
   "source": [
    "# target size\n",
    "TARGET_SIZE = 16384"
   ]
  },
  {
   "cell_type": "markdown",
   "id": "bedf6ce5-4173-4de4-9a60-0f8bf87cfd49",
   "metadata": {},
   "source": [
    "# **PointNet**"
   ]
  },
  {
   "cell_type": "code",
   "execution_count": null,
   "id": "66c9e0b6-b0ce-4560-9c97-a1ee96b07428",
   "metadata": {},
   "outputs": [],
   "source": [
    "def mat_mul(A, B):\n",
    "    return tensorflow.matmul(A, B)"
   ]
  },
  {
   "cell_type": "code",
   "execution_count": null,
   "id": "fc972590-5f2d-4ea5-a664-19eec8045063",
   "metadata": {},
   "outputs": [],
   "source": [
    "# ------------------------------------ PointNet ------------------------------------\n",
    "# input transform net\n",
    "input_points = Input(shape=(TARGET_SIZE, 3))\n",
    "x = Conv1D(64, 1, activation='relu', input_shape=(TARGET_SIZE, 3))(input_points)\n",
    "x = BatchNormalization()(x)\n",
    "x = Conv1D(128, 1, activation='relu')(x)\n",
    "x = BatchNormalization()(x)\n",
    "x = Conv1D(1024, 1, activation='relu')(x)\n",
    "x = BatchNormalization()(x)\n",
    "x = MaxPooling1D(pool_size=TARGET_SIZE)(x)\n",
    "x = Dense(512, activation='relu')(x)\n",
    "x = BatchNormalization()(x)\n",
    "x = Dense(256, activation='relu')(x)\n",
    "x = BatchNormalization()(x)\n",
    "x = Dense(9, weights=[numpy.zeros([256, 9]), numpy.array([1, 0, 0, 0, 1, 0, 0, 0, 1]).astype(numpy.float32)])(x)\n",
    "input_T = tensorflow.reshape(x, (3, 3))\n",
    "\n",
    "# feature extraction\n",
    "#g = Lambda(mat_mul, arguments={'B': input_T})(input_points)\n",
    "g = Conv1D(64, 1, input_shape=(TARGET_SIZE, 3), activation='relu')(input_points)\n",
    "g = BatchNormalization()(g)\n",
    "g = Conv1D(64, 1, input_shape=(TARGET_SIZE, 3), activation='relu')(g)\n",
    "g = BatchNormalization()(g)\n",
    "\n",
    "# feature transform net\n",
    "f = Conv1D(64, 1, activation='relu')(g)\n",
    "f = BatchNormalization()(f)\n",
    "f = Conv1D(128, 1, activation='relu')(f)\n",
    "f = BatchNormalization()(f)\n",
    "f = Conv1D(1024, 1, activation='relu')(f)\n",
    "f = BatchNormalization()(f)\n",
    "f = MaxPooling1D(pool_size=TARGET_SIZE)(f)\n",
    "f = Dense(512, activation='relu')(f)\n",
    "f = BatchNormalization()(f)\n",
    "f = Dense(256, activation='relu')(f)\n",
    "f = BatchNormalization()(f)\n",
    "f = Dense(64 * 64, weights=[numpy.zeros([256, 64 * 64]), numpy.eye(64).flatten().astype(numpy.float32)])(f)\n",
    "feature_T = tensorflow.reshape(f, (64, 64))\n",
    "\n",
    "# feature extraction\n",
    "#g = Lambda(mat_mul, arguments={'B': feature_T})(g)\n",
    "g = Conv1D(64, 1, activation='relu')(g)\n",
    "g = BatchNormalization()(g)\n",
    "g = Conv1D(128, 1, activation='relu')(g)\n",
    "g = BatchNormalization()(g)\n",
    "g = Conv1D(1024, 1, activation='relu')(g)\n",
    "g = BatchNormalization()(g)\n",
    "\n",
    "# global feature\n",
    "global_feature = MaxPooling1D(pool_size=TARGET_SIZE)(g)\n",
    "\n",
    "# pointnet classifier\n",
    "c = Dense(512, activation='relu')(global_feature)\n",
    "c = BatchNormalization()(c)\n",
    "c = Dropout(rate=0.7)(c)\n",
    "c = Dense(256, activation='relu')(c)\n",
    "c = BatchNormalization()(c)\n",
    "c = Dropout(rate=0.7)(c)\n",
    "c = Dense(NUM_CLASSES, activation='softmax')(c)\n",
    "prediction = Flatten()(c)\n",
    "# ------------------------------------ PointNet ------------------------------------\n",
    "\n",
    "model = Model(inputs=input_points, outputs=prediction)\n",
    "\n",
    "# train, validate and test\n",
    "pointclouds_kfold_validation_model(model_name=\"PointNet\", n_splits=6, test_size=0.05,\n",
    "                        shuffle=True, model=model, learning_rate=0.001,\n",
    "                        decay=1e-6, target_size=TARGET_SIZE, epochs=100,\n",
    "                        batch_size=32, one_fold=True, resample_data=0, augment=False)"
   ]
  }
 ],
 "metadata": {
  "kernelspec": {
   "display_name": "python39_venv",
   "language": "python",
   "name": "python39_venv"
  },
  "language_info": {
   "codemirror_mode": {
    "name": "ipython",
    "version": 3
   },
   "file_extension": ".py",
   "mimetype": "text/x-python",
   "name": "python",
   "nbconvert_exporter": "python",
   "pygments_lexer": "ipython3",
   "version": "3.9.10"
  }
 },
 "nbformat": 4,
 "nbformat_minor": 5
}
